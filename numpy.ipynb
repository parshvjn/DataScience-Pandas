{
 "cells": [
  {
   "cell_type": "code",
   "execution_count": 1,
   "id": "1a2e8afa",
   "metadata": {},
   "outputs": [],
   "source": [
    "a = [[1,6,3], [5,87,2]]"
   ]
  },
  {
   "cell_type": "code",
   "execution_count": 2,
   "id": "40e5c25d",
   "metadata": {},
   "outputs": [],
   "source": [
    "b = [[5.,8.,12.], [1.,6.,90.]]"
   ]
  },
  {
   "cell_type": "code",
   "execution_count": 3,
   "id": "3af6797d",
   "metadata": {},
   "outputs": [
    {
     "data": {
      "text/plain": [
       "[[1, 6, 3], [5, 87, 2], [5.0, 8.0, 12.0], [1.0, 6.0, 90.0]]"
      ]
     },
     "execution_count": 3,
     "metadata": {},
     "output_type": "execute_result"
    }
   ],
   "source": [
    "a+b"
   ]
  },
  {
   "cell_type": "code",
   "execution_count": 4,
   "id": "a4ec6a8c",
   "metadata": {},
   "outputs": [],
   "source": [
    "c = []\n",
    "for rows in range(2):\n",
    "    for columns in range(3):\n",
    "        c.append(a[rows][columns] * b[rows][columns])\n",
    "        "
   ]
  },
  {
   "cell_type": "code",
   "execution_count": 5,
   "id": "340e19dc",
   "metadata": {},
   "outputs": [
    {
     "data": {
      "text/plain": [
       "[5.0, 48.0, 36.0, 5.0, 522.0, 180.0]"
      ]
     },
     "execution_count": 5,
     "metadata": {},
     "output_type": "execute_result"
    }
   ],
   "source": [
    "c"
   ]
  },
  {
   "cell_type": "code",
   "execution_count": 6,
   "id": "939a65ef",
   "metadata": {},
   "outputs": [],
   "source": [
    "# Array elements are stored in contiguous that is the elements are stored in sequential manner in the memory."
   ]
  },
  {
   "cell_type": "code",
   "execution_count": 7,
   "id": "fbb9db31",
   "metadata": {},
   "outputs": [],
   "source": [
    "# Other languages inside arrays, similar types of data is stored. Meaning same type of value like ints.\n",
    "# Inside arrays, similar type of data should be there."
   ]
  },
  {
   "cell_type": "code",
   "execution_count": 8,
   "id": "2b36e382",
   "metadata": {},
   "outputs": [],
   "source": [
    "import numpy as np"
   ]
  },
  {
   "cell_type": "code",
   "execution_count": 9,
   "id": "7eeef253",
   "metadata": {},
   "outputs": [
    {
     "data": {
      "text/plain": [
       "dtype('int64')"
      ]
     },
     "execution_count": 9,
     "metadata": {},
     "output_type": "execute_result"
    }
   ],
   "source": [
    "np.array(a).dtype"
   ]
  },
  {
   "cell_type": "code",
   "execution_count": 10,
   "id": "84468660",
   "metadata": {},
   "outputs": [
    {
     "data": {
      "text/plain": [
       "dtype('float64')"
      ]
     },
     "execution_count": 10,
     "metadata": {},
     "output_type": "execute_result"
    }
   ],
   "source": [
    "np.array(b).dtype"
   ]
  },
  {
   "cell_type": "code",
   "execution_count": 11,
   "id": "4172fab6",
   "metadata": {},
   "outputs": [],
   "source": [
    "array = np.array(b)"
   ]
  },
  {
   "cell_type": "code",
   "execution_count": 12,
   "id": "258a9f8e",
   "metadata": {},
   "outputs": [
    {
     "data": {
      "text/plain": [
       "dtype('int8')"
      ]
     },
     "execution_count": 12,
     "metadata": {},
     "output_type": "execute_result"
    }
   ],
   "source": [
    "np.array(a, dtype = \"int8\").dtype"
   ]
  },
  {
   "cell_type": "code",
   "execution_count": 13,
   "id": "bbed446c",
   "metadata": {},
   "outputs": [
    {
     "data": {
      "text/plain": [
       "2"
      ]
     },
     "execution_count": 13,
     "metadata": {},
     "output_type": "execute_result"
    }
   ],
   "source": [
    "array.ndim #rows or number of arrays in the multi-dimensional array"
   ]
  },
  {
   "cell_type": "code",
   "execution_count": 14,
   "id": "f1983264",
   "metadata": {},
   "outputs": [
    {
     "data": {
      "text/plain": [
       "(2, 3)"
      ]
     },
     "execution_count": 14,
     "metadata": {},
     "output_type": "execute_result"
    }
   ],
   "source": [
    "array.shape"
   ]
  },
  {
   "cell_type": "code",
   "execution_count": 15,
   "id": "61555826",
   "metadata": {},
   "outputs": [
    {
     "data": {
      "text/plain": [
       "array([[ 5.,  1.],\n",
       "       [ 8.,  6.],\n",
       "       [12., 90.]])"
      ]
     },
     "execution_count": 15,
     "metadata": {},
     "output_type": "execute_result"
    }
   ],
   "source": [
    "array.T #rotate T stands for transpose"
   ]
  },
  {
   "cell_type": "code",
   "execution_count": 16,
   "id": "3514d8be",
   "metadata": {},
   "outputs": [
    {
     "data": {
      "text/plain": [
       "(3, 2)"
      ]
     },
     "execution_count": 16,
     "metadata": {},
     "output_type": "execute_result"
    }
   ],
   "source": [
    "array.T.shape"
   ]
  },
  {
   "cell_type": "code",
   "execution_count": 46,
   "id": "149e8073",
   "metadata": {},
   "outputs": [],
   "source": [
    "img = np.multiply(a,b)//255."
   ]
  },
  {
   "cell_type": "code",
   "execution_count": 18,
   "id": "798a38f3",
   "metadata": {},
   "outputs": [
    {
     "data": {
      "text/plain": [
       "226.0"
      ]
     },
     "execution_count": 18,
     "metadata": {},
     "output_type": "execute_result"
    }
   ],
   "source": [
    "np.sum([a,b])"
   ]
  },
  {
   "cell_type": "code",
   "execution_count": 19,
   "id": "b0f356da",
   "metadata": {},
   "outputs": [],
   "source": [
    "# Hw: find how to represent the sum in multi-dimensional array format "
   ]
  },
  {
   "cell_type": "code",
   "execution_count": 20,
   "id": "cec28f4d",
   "metadata": {},
   "outputs": [
    {
     "data": {
      "text/plain": [
       "array([[ 6., 14., 15.],\n",
       "       [ 6., 93., 92.]])"
      ]
     },
     "execution_count": 20,
     "metadata": {},
     "output_type": "execute_result"
    }
   ],
   "source": [
    "np.add(a,b)"
   ]
  },
  {
   "cell_type": "code",
   "execution_count": 32,
   "id": "ce680232",
   "metadata": {},
   "outputs": [],
   "source": [
    "zeros = np.zeros((2,3), dtype = \"float16\")"
   ]
  },
  {
   "cell_type": "code",
   "execution_count": 39,
   "id": "27348ef3",
   "metadata": {},
   "outputs": [],
   "source": [
    "ones = np.ones((2,3))"
   ]
  },
  {
   "cell_type": "code",
   "execution_count": 40,
   "id": "46d2a9e1",
   "metadata": {},
   "outputs": [],
   "source": [
    "import matplotlib.pyplot as plt"
   ]
  },
  {
   "cell_type": "code",
   "execution_count": 41,
   "id": "768135ee",
   "metadata": {},
   "outputs": [
    {
     "ename": "SyntaxError",
     "evalue": "invalid syntax (1389532119.py, line 1)",
     "output_type": "error",
     "traceback": [
      "\u001b[0;36m  Cell \u001b[0;32mIn[41], line 1\u001b[0;36m\u001b[0m\n\u001b[0;31m    plt.imshow(zeros, cmap = \"gray\")a\u001b[0m\n\u001b[0m                                    ^\u001b[0m\n\u001b[0;31mSyntaxError\u001b[0m\u001b[0;31m:\u001b[0m invalid syntax\n"
     ]
    }
   ],
   "source": [
    "plt.imshow(zeros, cmap = \"gray\")"
   ]
  },
  {
   "cell_type": "code",
   "execution_count": 42,
   "id": "1d4c6f1c",
   "metadata": {},
   "outputs": [
    {
     "data": {
      "text/plain": [
       "<matplotlib.image.AxesImage at 0x114da95d0>"
      ]
     },
     "execution_count": 42,
     "metadata": {},
     "output_type": "execute_result"
    },
    {
     "data": {
      "image/png": "[encoded data removed]",
      "text/plain": [
       "<Figure size 640x480 with 1 Axes>"
      ]
     },
     "metadata": {},
     "output_type": "display_data"
    }
   ],
   "source": [
    "plt.imshow(ones, cmap = \"gray\")"
   ]
  },
  {
   "cell_type": "code",
   "execution_count": 43,
   "id": "09be7009",
   "metadata": {},
   "outputs": [
    {
     "data": {
      "text/plain": [
       "<matplotlib.image.AxesImage at 0x114dfb220>"
      ]
     },
     "execution_count": 43,
     "metadata": {},
     "output_type": "execute_result"
    },
    {
     "data": {
      "image/png": "[encoded data removed]",
      "text/plain": [
       "<Figure size 640x480 with 1 Axes>"
      ]
     },
     "metadata": {},
     "output_type": "display_data"
    }
   ],
   "source": [
    "plt.imshow(ones, cmap = \"gray\")"
   ]
  },
  {
   "cell_type": "code",
   "execution_count": 47,
   "id": "c4016fc1",
   "metadata": {},
   "outputs": [
    {
     "data": {
      "text/plain": [
       "<matplotlib.image.AxesImage at 0x114e52c50>"
      ]
     },
     "execution_count": 47,
     "metadata": {},
     "output_type": "execute_result"
    },
    {
     "data": {
      "image/png": "[encoded data removed]",
      "text/plain": [
       "<Figure size 640x480 with 1 Axes>"
      ]
     },
     "metadata": {},
     "output_type": "display_data"
    }
   ],
   "source": [
    "plt.imshow(img, cmap = \"gray\")"
   ]
  },
  {
   "cell_type": "code",
   "execution_count": 48,
   "id": "9b46960f",
   "metadata": {},
   "outputs": [
    {
     "data": {
      "text/plain": [
       "array([[0., 0., 0.],\n",
       "       [0., 2., 0.]])"
      ]
     },
     "execution_count": 48,
     "metadata": {},
     "output_type": "execute_result"
    }
   ],
   "source": [
    "img"
   ]
  },
  {
   "cell_type": "code",
   "execution_count": 52,
   "id": "91e62834",
   "metadata": {},
   "outputs": [],
   "source": [
    "eye = np.eye(4,4)"
   ]
  },
  {
   "cell_type": "code",
   "execution_count": 53,
   "id": "9f6c3c4b",
   "metadata": {},
   "outputs": [
    {
     "data": {
      "text/plain": [
       "<matplotlib.image.AxesImage at 0x114fc7310>"
      ]
     },
     "execution_count": 53,
     "metadata": {},
     "output_type": "execute_result"
    },
    {
     "data": {
      "image/png": "[encoded data removed]",
      "text/plain": [
       "<Figure size 640x480 with 1 Axes>"
      ]
     },
     "metadata": {},
     "output_type": "display_data"
    }
   ],
   "source": [
    "plt.imshow(eye, cmap = \"gray\")"
   ]
  },
  {
   "cell_type": "code",
   "execution_count": 57,
   "id": "fe18d00e",
   "metadata": {},
   "outputs": [],
   "source": [
    "nums = [1,5,21,7,9]"
   ]
  },
  {
   "cell_type": "code",
   "execution_count": 58,
   "id": "b4e0665d",
   "metadata": {},
   "outputs": [
    {
     "data": {
      "text/plain": [
       "21"
      ]
     },
     "execution_count": 58,
     "metadata": {},
     "output_type": "execute_result"
    }
   ],
   "source": [
    "max(nums)"
   ]
  },
  {
   "cell_type": "code",
   "execution_count": 59,
   "id": "8b5ad8ef",
   "metadata": {},
   "outputs": [
    {
     "data": {
      "text/plain": [
       "2"
      ]
     },
     "execution_count": 59,
     "metadata": {},
     "output_type": "execute_result"
    }
   ],
   "source": [
    "np.argmax(nums)"
   ]
  },
  {
   "cell_type": "code",
   "execution_count": 60,
   "id": "737cc6f0",
   "metadata": {},
   "outputs": [],
   "source": [
    "array = np.array([[1,5,21,7,9], [7,23,1,7,8]])"
   ]
  },
  {
   "cell_type": "code",
   "execution_count": 61,
   "id": "b6d0b71c",
   "metadata": {},
   "outputs": [
    {
     "data": {
      "text/plain": [
       "array([[ 1,  5, 21,  7,  9],\n",
       "       [ 7, 23,  1,  7,  8]])"
      ]
     },
     "execution_count": 61,
     "metadata": {},
     "output_type": "execute_result"
    }
   ],
   "source": [
    "array"
   ]
  },
  {
   "cell_type": "code",
   "execution_count": 62,
   "id": "b4376ada",
   "metadata": {},
   "outputs": [
    {
     "data": {
      "text/plain": [
       "6"
      ]
     },
     "execution_count": 62,
     "metadata": {},
     "output_type": "execute_result"
    }
   ],
   "source": [
    "np.argmax(array)"
   ]
  },
  {
   "cell_type": "code",
   "execution_count": 63,
   "id": "4d62cc72",
   "metadata": {},
   "outputs": [
    {
     "data": {
      "text/plain": [
       "array([[0, 1, 3, 4, 2],\n",
       "       [2, 0, 3, 4, 1]])"
      ]
     },
     "execution_count": 63,
     "metadata": {},
     "output_type": "execute_result"
    }
   ],
   "source": [
    "np.argsort(array)"
   ]
  },
  {
   "cell_type": "code",
   "execution_count": 64,
   "id": "87a1152f",
   "metadata": {},
   "outputs": [
    {
     "data": {
      "text/plain": [
       "0"
      ]
     },
     "execution_count": 64,
     "metadata": {},
     "output_type": "execute_result"
    }
   ],
   "source": [
    "np.argmin(array)"
   ]
  },
  {
   "cell_type": "code",
   "execution_count": 65,
   "id": "dbcb6639",
   "metadata": {},
   "outputs": [
    {
     "data": {
      "text/plain": [
       "array([[ 1,  5,  7,  9, 21],\n",
       "       [ 1,  7,  7,  8, 23]])"
      ]
     },
     "execution_count": 65,
     "metadata": {},
     "output_type": "execute_result"
    }
   ],
   "source": [
    "np.sort(array)"
   ]
  },
  {
   "cell_type": "code",
   "execution_count": 66,
   "id": "1cac7735",
   "metadata": {},
   "outputs": [
    {
     "data": {
      "text/plain": [
       "4.0"
      ]
     },
     "execution_count": 66,
     "metadata": {},
     "output_type": "execute_result"
    }
   ],
   "source": [
    "eye.trace()"
   ]
  },
  {
   "cell_type": "code",
   "execution_count": 68,
   "id": "2c2405ae",
   "metadata": {},
   "outputs": [],
   "source": [
    "array2 = np.array([[2,5],[1,6],[689,4]])"
   ]
  },
  {
   "cell_type": "code",
   "execution_count": 69,
   "id": "b8b0675e",
   "metadata": {},
   "outputs": [
    {
     "data": {
      "text/plain": [
       "array([[  2,   5],\n",
       "       [  1,   6],\n",
       "       [689,   4]])"
      ]
     },
     "execution_count": 69,
     "metadata": {},
     "output_type": "execute_result"
    }
   ],
   "source": [
    "array2"
   ]
  },
  {
   "cell_type": "code",
   "execution_count": 77,
   "id": "a224002c",
   "metadata": {},
   "outputs": [
    {
     "data": {
      "text/plain": [
       "array([[  2,   5,   1],\n",
       "       [  6, 689,   4]])"
      ]
     },
     "execution_count": 77,
     "metadata": {},
     "output_type": "execute_result"
    }
   ],
   "source": [
    "array2.reshape(2,3)"
   ]
  },
  {
   "cell_type": "code",
   "execution_count": 86,
   "id": "b1eec2c8",
   "metadata": {},
   "outputs": [],
   "source": [
    "flipped = np.flip(array2, 0)"
   ]
  },
  {
   "cell_type": "code",
   "execution_count": 85,
   "id": "d8098522",
   "metadata": {},
   "outputs": [
    {
     "data": {
      "text/plain": [
       "<matplotlib.image.AxesImage at 0x1150ff430>"
      ]
     },
     "execution_count": 85,
     "metadata": {},
     "output_type": "execute_result"
    },
    {
     "data": {
      "image/png": "[encoded data removed]",
      "text/plain": [
       "<Figure size 640x480 with 1 Axes>"
      ]
     },
     "metadata": {},
     "output_type": "display_data"
    }
   ],
   "source": [
    "plt.imshow(array2//255, cmap = \"gray\")"
   ]
  },
  {
   "cell_type": "code",
   "execution_count": 87,
   "id": "002a063b",
   "metadata": {},
   "outputs": [
    {
     "data": {
      "text/plain": [
       "<matplotlib.image.AxesImage at 0x115126e60>"
      ]
     },
     "execution_count": 87,
     "metadata": {},
     "output_type": "execute_result"
    },
    {
     "data": {
      "image/png": "[encoded data removed]",
      "text/plain": [
       "<Figure size 640x480 with 1 Axes>"
      ]
     },
     "metadata": {},
     "output_type": "display_data"
    }
   ],
   "source": [
    "plt.imshow(flipped, cmap = \"gray\")"
   ]
  },
  {
   "cell_type": "code",
   "execution_count": null,
   "id": "8e063aff",
   "metadata": {},
   "outputs": [],
   "source": []
  }
 ],
 "metadata": {
  "kernelspec": {
   "display_name": "Python 3 (ipykernel)",
   "language": "python",
   "name": "python3"
  },
  "language_info": {
   "codemirror_mode": {
    "name": "ipython",
    "version": 3
   },
   "file_extension": ".py",
   "mimetype": "text/x-python",
   "name": "python",
   "nbconvert_exporter": "python",
   "pygments_lexer": "ipython3",
   "version": "3.10.2"
  }
 },
 "nbformat": 4,
 "nbformat_minor": 5
}
