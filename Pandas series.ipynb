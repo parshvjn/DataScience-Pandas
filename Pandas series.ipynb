{
 "cells": [
  {
   "cell_type": "raw",
   "id": "231bf058",
   "metadata": {},
   "source": [
    "!pip install pandas==1.5.3"
   ]
  },
  {
   "cell_type": "code",
   "execution_count": 27,
   "id": "eff8bf27",
   "metadata": {},
   "outputs": [
    {
     "data": {
      "text/plain": [
       "A     1\n",
       "B     2\n",
       "C     3\n",
       "D     4\n",
       "E     5\n",
       "F     6\n",
       "G     7\n",
       "H     8\n",
       "I     9\n",
       "J    10\n",
       "dtype: int64"
      ]
     },
     "execution_count": 27,
     "metadata": {},
     "output_type": "execute_result"
    }
   ],
   "source": [
    "import pandas as pd\n",
    "\n",
    "\n",
    "A=(range(1,11))\n",
    "index_ = ['A','B','C','D','E','F','G','H','I','J']\n",
    "pd.Series(A,index=index_)"
   ]
  },
  {
   "cell_type": "code",
   "execution_count": 28,
   "id": "384fe06b",
   "metadata": {},
   "outputs": [],
   "source": [
    "Dict = dict(zip(index_,A))"
   ]
  },
  {
   "cell_type": "code",
   "execution_count": 29,
   "id": "56566d3c",
   "metadata": {},
   "outputs": [],
   "source": [
    "f=pd.Series(Dict)"
   ]
  },
  {
   "cell_type": "code",
   "execution_count": 32,
   "id": "4bff7d53",
   "metadata": {},
   "outputs": [
    {
     "data": {
      "text/plain": [
       "B    2\n",
       "C    3\n",
       "D    4\n",
       "E    5\n",
       "F    6\n",
       "G    7\n",
       "H    8\n",
       "dtype: int64"
      ]
     },
     "execution_count": 32,
     "metadata": {},
     "output_type": "execute_result"
    }
   ],
   "source": [
    "f[f.between(2,8)==True] # slicing of series or dataframe"
   ]
  },
  {
   "cell_type": "code",
   "execution_count": 33,
   "id": "87c1f010",
   "metadata": {},
   "outputs": [
    {
     "data": {
      "text/plain": [
       "10"
      ]
     },
     "execution_count": 33,
     "metadata": {},
     "output_type": "execute_result"
    }
   ],
   "source": [
    "f.count()"
   ]
  },
  {
   "cell_type": "markdown",
   "id": "da77d05a",
   "metadata": {},
   "source": [
    "## Data Frame -> Tabular data ,multidimetional array/list, collection of series"
   ]
  },
  {
   "cell_type": "code",
   "execution_count": 36,
   "id": "57b87d64",
   "metadata": {},
   "outputs": [],
   "source": [
    "Dict ={'ABC':[1,2,3],'CDE':[4,5,6]}"
   ]
  },
  {
   "cell_type": "code",
   "execution_count": 38,
   "id": "87be7218",
   "metadata": {},
   "outputs": [],
   "source": [
    "df = pd.DataFrame(Dict)"
   ]
  },
  {
   "cell_type": "code",
   "execution_count": 41,
   "id": "8ac01366",
   "metadata": {},
   "outputs": [],
   "source": [
    "df['GHI'] = df['CDE']+df['ABC']"
   ]
  },
  {
   "cell_type": "code",
   "execution_count": 44,
   "id": "672b7c31",
   "metadata": {},
   "outputs": [],
   "source": [
    "df['GHI'] = df.apply(lambda x : x['ABC']%2==0,axis=1)"
   ]
  },
  {
   "cell_type": "code",
   "execution_count": 46,
   "id": "4f591f99",
   "metadata": {},
   "outputs": [
    {
     "data": {
      "text/html": [
       "<div>\n",
       "<style scoped>\n",
       "    .dataframe tbody tr th:only-of-type {\n",
       "        vertical-align: middle;\n",
       "    }\n",
       "\n",
       "    .dataframe tbody tr th {\n",
       "        vertical-align: top;\n",
       "    }\n",
       "\n",
       "    .dataframe thead th {\n",
       "        text-align: right;\n",
       "    }\n",
       "</style>\n",
       "<table border=\"1\" class=\"dataframe\">\n",
       "  <thead>\n",
       "    <tr style=\"text-align: right;\">\n",
       "      <th></th>\n",
       "      <th>ABC</th>\n",
       "      <th>CDE</th>\n",
       "      <th>GHI</th>\n",
       "    </tr>\n",
       "  </thead>\n",
       "  <tbody>\n",
       "    <tr>\n",
       "      <th>1</th>\n",
       "      <td>2</td>\n",
       "      <td>5</td>\n",
       "      <td>True</td>\n",
       "    </tr>\n",
       "  </tbody>\n",
       "</table>\n",
       "</div>"
      ],
      "text/plain": [
       "   ABC  CDE   GHI\n",
       "1    2    5  True"
      ]
     },
     "execution_count": 46,
     "metadata": {},
     "output_type": "execute_result"
    }
   ],
   "source": [
    "df[df['GHI']==True]"
   ]
  },
  {
   "cell_type": "code",
   "execution_count": null,
   "id": "6a1dca89",
   "metadata": {},
   "outputs": [],
   "source": []
  }
 ],
 "metadata": {
  "kernelspec": {
   "display_name": "Python 3 (ipykernel)",
   "language": "python",
   "name": "python3"
  },
  "language_info": {
   "codemirror_mode": {
    "name": "ipython",
    "version": 3
   },
   "file_extension": ".py",
   "mimetype": "text/x-python",
   "name": "python",
   "nbconvert_exporter": "python",
   "pygments_lexer": "ipython3",
   "version": "3.9.10"
  }
 },
 "nbformat": 4,
 "nbformat_minor": 5
}
