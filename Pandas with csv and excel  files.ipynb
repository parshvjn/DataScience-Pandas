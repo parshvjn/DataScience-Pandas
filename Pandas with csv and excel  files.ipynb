{
 "cells": [
  {
   "cell_type": "code",
   "execution_count": 1,
   "id": "d303df2a",
   "metadata": {},
   "outputs": [],
   "source": [
    "import glob\n",
    "import os\n",
    "import pandas as pd"
   ]
  },
  {
   "cell_type": "code",
   "execution_count": 2,
   "id": "59fd5f5c",
   "metadata": {},
   "outputs": [
    {
     "data": {
      "text/plain": [
       "['/Users/parshv/files/googledrive/CodingForParshv/python-class/Introduction to pandas\\\\flipped_file.csv']"
      ]
     },
     "execution_count": 2,
     "metadata": {},
     "output_type": "execute_result"
    }
   ],
   "source": [
    "file_path  = os.getcwd()\n",
    "file_list = glob.glob(file_path+'\\\\*.csv') #glob is used to find all the files present in a directory or a sub-directory\n",
    "file_list"
   ]
  },
  {
   "cell_type": "code",
   "execution_count": 3,
   "id": "66ba4c35",
   "metadata": {},
   "outputs": [],
   "source": [
    "df = pd.read_csv(\"halfyearly_examination.csv\") # this function is used to read a csv file where you need to mention the file name as a parameter"
   ]
  },
  {
   "cell_type": "code",
   "execution_count": 4,
   "id": "eedc0d21",
   "metadata": {},
   "outputs": [
    {
     "data": {
      "text/plain": [
       "Index(['subject', 'marks obtained', 'total marks'], dtype='object')"
      ]
     },
     "execution_count": 4,
     "metadata": {},
     "output_type": "execute_result"
    }
   ],
   "source": [
    "df.columns"
   ]
  },
  {
   "cell_type": "code",
   "execution_count": 5,
   "id": "e777d016",
   "metadata": {},
   "outputs": [],
   "source": [
    "df['Marks in %'] = (df['marks obtained']/df['total marks'])*100"
   ]
  },
  {
   "cell_type": "code",
   "execution_count": 6,
   "id": "8ffa44da",
   "metadata": {},
   "outputs": [
    {
     "data": {
      "text/html": [
       "<div>\n",
       "<style scoped>\n",
       "    .dataframe tbody tr th:only-of-type {\n",
       "        vertical-align: middle;\n",
       "    }\n",
       "\n",
       "    .dataframe tbody tr th {\n",
       "        vertical-align: top;\n",
       "    }\n",
       "\n",
       "    .dataframe thead th {\n",
       "        text-align: right;\n",
       "    }\n",
       "</style>\n",
       "<table border=\"1\" class=\"dataframe\">\n",
       "  <thead>\n",
       "    <tr style=\"text-align: right;\">\n",
       "      <th></th>\n",
       "      <th>subject</th>\n",
       "      <th>marks obtained</th>\n",
       "      <th>total marks</th>\n",
       "      <th>Marks in %</th>\n",
       "    </tr>\n",
       "  </thead>\n",
       "  <tbody>\n",
       "    <tr>\n",
       "      <th>0</th>\n",
       "      <td>Maths</td>\n",
       "      <td>80</td>\n",
       "      <td>90</td>\n",
       "      <td>88.888889</td>\n",
       "    </tr>\n",
       "    <tr>\n",
       "      <th>1</th>\n",
       "      <td>science</td>\n",
       "      <td>60</td>\n",
       "      <td>85</td>\n",
       "      <td>70.588235</td>\n",
       "    </tr>\n",
       "    <tr>\n",
       "      <th>2</th>\n",
       "      <td>physical education</td>\n",
       "      <td>94</td>\n",
       "      <td>300</td>\n",
       "      <td>31.333333</td>\n",
       "    </tr>\n",
       "    <tr>\n",
       "      <th>3</th>\n",
       "      <td>astronomy</td>\n",
       "      <td>98</td>\n",
       "      <td>200</td>\n",
       "      <td>49.000000</td>\n",
       "    </tr>\n",
       "  </tbody>\n",
       "</table>\n",
       "</div>"
      ],
      "text/plain": [
       "              subject  marks obtained  total marks  Marks in %\n",
       "0               Maths              80           90   88.888889\n",
       "1             science              60           85   70.588235\n",
       "2  physical education              94          300   31.333333\n",
       "3           astronomy              98          200   49.000000"
      ]
     },
     "execution_count": 6,
     "metadata": {},
     "output_type": "execute_result"
    }
   ],
   "source": [
    "df"
   ]
  },
  {
   "cell_type": "code",
   "execution_count": 7,
   "id": "e8303d11",
   "metadata": {},
   "outputs": [
    {
     "data": {
      "text/plain": [
       "88.88888888888889"
      ]
     },
     "execution_count": 7,
     "metadata": {},
     "output_type": "execute_result"
    }
   ],
   "source": [
    "max(df['Marks in %'])"
   ]
  },
  {
   "cell_type": "code",
   "execution_count": 8,
   "id": "99793475",
   "metadata": {},
   "outputs": [
    {
     "data": {
      "text/plain": [
       "88.88888888888889"
      ]
     },
     "execution_count": 8,
     "metadata": {},
     "output_type": "execute_result"
    }
   ],
   "source": [
    "df['Marks in %'].max()"
   ]
  },
  {
   "cell_type": "code",
   "execution_count": 9,
   "id": "14a5c7e2",
   "metadata": {},
   "outputs": [
    {
     "data": {
      "text/html": [
       "<div>\n",
       "<style scoped>\n",
       "    .dataframe tbody tr th:only-of-type {\n",
       "        vertical-align: middle;\n",
       "    }\n",
       "\n",
       "    .dataframe tbody tr th {\n",
       "        vertical-align: top;\n",
       "    }\n",
       "\n",
       "    .dataframe thead th {\n",
       "        text-align: right;\n",
       "    }\n",
       "</style>\n",
       "<table border=\"1\" class=\"dataframe\">\n",
       "  <thead>\n",
       "    <tr style=\"text-align: right;\">\n",
       "      <th></th>\n",
       "      <th>subject</th>\n",
       "      <th>marks obtained</th>\n",
       "      <th>total marks</th>\n",
       "      <th>Marks in %</th>\n",
       "    </tr>\n",
       "  </thead>\n",
       "  <tbody>\n",
       "    <tr>\n",
       "      <th>0</th>\n",
       "      <td>Maths</td>\n",
       "      <td>80</td>\n",
       "      <td>90</td>\n",
       "      <td>88.888889</td>\n",
       "    </tr>\n",
       "    <tr>\n",
       "      <th>1</th>\n",
       "      <td>science</td>\n",
       "      <td>60</td>\n",
       "      <td>85</td>\n",
       "      <td>70.588235</td>\n",
       "    </tr>\n",
       "  </tbody>\n",
       "</table>\n",
       "</div>"
      ],
      "text/plain": [
       "   subject  marks obtained  total marks  Marks in %\n",
       "0    Maths              80           90   88.888889\n",
       "1  science              60           85   70.588235"
      ]
     },
     "execution_count": 9,
     "metadata": {},
     "output_type": "execute_result"
    }
   ],
   "source": [
    "df.head(2) # by defualt shows first 5 rows, or you can put an amount of rows wanted as a parameter"
   ]
  },
  {
   "cell_type": "code",
   "execution_count": 10,
   "id": "c53010a3",
   "metadata": {},
   "outputs": [
    {
     "data": {
      "text/html": [
       "<div>\n",
       "<style scoped>\n",
       "    .dataframe tbody tr th:only-of-type {\n",
       "        vertical-align: middle;\n",
       "    }\n",
       "\n",
       "    .dataframe tbody tr th {\n",
       "        vertical-align: top;\n",
       "    }\n",
       "\n",
       "    .dataframe thead th {\n",
       "        text-align: right;\n",
       "    }\n",
       "</style>\n",
       "<table border=\"1\" class=\"dataframe\">\n",
       "  <thead>\n",
       "    <tr style=\"text-align: right;\">\n",
       "      <th></th>\n",
       "      <th>subject</th>\n",
       "      <th>marks obtained</th>\n",
       "      <th>total marks</th>\n",
       "      <th>Marks in %</th>\n",
       "    </tr>\n",
       "  </thead>\n",
       "  <tbody>\n",
       "    <tr>\n",
       "      <th>2</th>\n",
       "      <td>physical education</td>\n",
       "      <td>94</td>\n",
       "      <td>300</td>\n",
       "      <td>31.333333</td>\n",
       "    </tr>\n",
       "    <tr>\n",
       "      <th>3</th>\n",
       "      <td>astronomy</td>\n",
       "      <td>98</td>\n",
       "      <td>200</td>\n",
       "      <td>49.000000</td>\n",
       "    </tr>\n",
       "  </tbody>\n",
       "</table>\n",
       "</div>"
      ],
      "text/plain": [
       "              subject  marks obtained  total marks  Marks in %\n",
       "2  physical education              94          300   31.333333\n",
       "3           astronomy              98          200   49.000000"
      ]
     },
     "execution_count": 10,
     "metadata": {},
     "output_type": "execute_result"
    }
   ],
   "source": [
    "df.tail(2) # shows last 5 rows of the dataset, if you want to see a specific amount of rows from the bottom, then pass a number as the parameter"
   ]
  },
  {
   "cell_type": "markdown",
   "id": "fe01fe8f",
   "metadata": {},
   "source": [
    "## iloc and loc"
   ]
  },
  {
   "cell_type": "code",
   "execution_count": 11,
   "id": "cb536f86",
   "metadata": {},
   "outputs": [
    {
     "data": {
      "text/html": [
       "<div>\n",
       "<style scoped>\n",
       "    .dataframe tbody tr th:only-of-type {\n",
       "        vertical-align: middle;\n",
       "    }\n",
       "\n",
       "    .dataframe tbody tr th {\n",
       "        vertical-align: top;\n",
       "    }\n",
       "\n",
       "    .dataframe thead th {\n",
       "        text-align: right;\n",
       "    }\n",
       "</style>\n",
       "<table border=\"1\" class=\"dataframe\">\n",
       "  <thead>\n",
       "    <tr style=\"text-align: right;\">\n",
       "      <th></th>\n",
       "      <th>subject</th>\n",
       "      <th>marks obtained</th>\n",
       "      <th>total marks</th>\n",
       "      <th>Marks in %</th>\n",
       "    </tr>\n",
       "  </thead>\n",
       "  <tbody>\n",
       "    <tr>\n",
       "      <th>0</th>\n",
       "      <td>Maths</td>\n",
       "      <td>80</td>\n",
       "      <td>90</td>\n",
       "      <td>88.888889</td>\n",
       "    </tr>\n",
       "    <tr>\n",
       "      <th>1</th>\n",
       "      <td>science</td>\n",
       "      <td>60</td>\n",
       "      <td>85</td>\n",
       "      <td>70.588235</td>\n",
       "    </tr>\n",
       "    <tr>\n",
       "      <th>2</th>\n",
       "      <td>physical education</td>\n",
       "      <td>94</td>\n",
       "      <td>300</td>\n",
       "      <td>31.333333</td>\n",
       "    </tr>\n",
       "    <tr>\n",
       "      <th>3</th>\n",
       "      <td>astronomy</td>\n",
       "      <td>98</td>\n",
       "      <td>200</td>\n",
       "      <td>49.000000</td>\n",
       "    </tr>\n",
       "  </tbody>\n",
       "</table>\n",
       "</div>"
      ],
      "text/plain": [
       "              subject  marks obtained  total marks  Marks in %\n",
       "0               Maths              80           90   88.888889\n",
       "1             science              60           85   70.588235\n",
       "2  physical education              94          300   31.333333\n",
       "3           astronomy              98          200   49.000000"
      ]
     },
     "execution_count": 11,
     "metadata": {},
     "output_type": "execute_result"
    }
   ],
   "source": [
    "df"
   ]
  },
  {
   "cell_type": "code",
   "execution_count": 12,
   "id": "d1a4957d",
   "metadata": {},
   "outputs": [
    {
     "data": {
      "text/plain": [
       "subject           astronomy\n",
       "marks obtained           98\n",
       "total marks             200\n",
       "Marks in %             49.0\n",
       "Name: 3, dtype: object"
      ]
     },
     "execution_count": 12,
     "metadata": {},
     "output_type": "execute_result"
    }
   ],
   "source": [
    "df.iloc[3]"
   ]
  },
  {
   "cell_type": "markdown",
   "id": "4956723d",
   "metadata": {},
   "source": [
    "#### Access columns via iloc"
   ]
  },
  {
   "cell_type": "code",
   "execution_count": 13,
   "id": "c5f484cb",
   "metadata": {},
   "outputs": [
    {
     "data": {
      "text/plain": [
       "0    80\n",
       "1    60\n",
       "2    94\n",
       "3    98\n",
       "Name: marks obtained, dtype: int64"
      ]
     },
     "execution_count": 13,
     "metadata": {},
     "output_type": "execute_result"
    }
   ],
   "source": [
    "df['marks obtained']"
   ]
  },
  {
   "cell_type": "code",
   "execution_count": 14,
   "id": "b1829edb",
   "metadata": {},
   "outputs": [],
   "source": [
    "df1=df.iloc[::-1,::-1]"
   ]
  },
  {
   "cell_type": "code",
   "execution_count": 20,
   "id": "0d69c1b6",
   "metadata": {},
   "outputs": [],
   "source": [
    "df1.to_csv('flipped_file.csv')"
   ]
  },
  {
   "cell_type": "code",
   "execution_count": 23,
   "id": "5e0d59b7",
   "metadata": {},
   "outputs": [],
   "source": [
    "reversed_ = pd.read_csv(\"flipped_file.csv\")"
   ]
  },
  {
   "cell_type": "code",
   "execution_count": 24,
   "id": "527e2074",
   "metadata": {},
   "outputs": [
    {
     "data": {
      "text/html": [
       "<div>\n",
       "<style scoped>\n",
       "    .dataframe tbody tr th:only-of-type {\n",
       "        vertical-align: middle;\n",
       "    }\n",
       "\n",
       "    .dataframe tbody tr th {\n",
       "        vertical-align: top;\n",
       "    }\n",
       "\n",
       "    .dataframe thead th {\n",
       "        text-align: right;\n",
       "    }\n",
       "</style>\n",
       "<table border=\"1\" class=\"dataframe\">\n",
       "  <thead>\n",
       "    <tr style=\"text-align: right;\">\n",
       "      <th></th>\n",
       "      <th>ID</th>\n",
       "      <th>Marks in %</th>\n",
       "      <th>total marks</th>\n",
       "      <th>marks obtained</th>\n",
       "      <th>subject</th>\n",
       "    </tr>\n",
       "  </thead>\n",
       "  <tbody>\n",
       "    <tr>\n",
       "      <th>0</th>\n",
       "      <td>3</td>\n",
       "      <td>49.000000</td>\n",
       "      <td>200</td>\n",
       "      <td>98</td>\n",
       "      <td>astronomy</td>\n",
       "    </tr>\n",
       "    <tr>\n",
       "      <th>1</th>\n",
       "      <td>2</td>\n",
       "      <td>31.333333</td>\n",
       "      <td>300</td>\n",
       "      <td>94</td>\n",
       "      <td>physical education</td>\n",
       "    </tr>\n",
       "    <tr>\n",
       "      <th>2</th>\n",
       "      <td>1</td>\n",
       "      <td>70.588235</td>\n",
       "      <td>85</td>\n",
       "      <td>60</td>\n",
       "      <td>science</td>\n",
       "    </tr>\n",
       "    <tr>\n",
       "      <th>3</th>\n",
       "      <td>0</td>\n",
       "      <td>88.888889</td>\n",
       "      <td>90</td>\n",
       "      <td>80</td>\n",
       "      <td>Maths</td>\n",
       "    </tr>\n",
       "  </tbody>\n",
       "</table>\n",
       "</div>"
      ],
      "text/plain": [
       "   ID  Marks in %  total marks  marks obtained             subject\n",
       "0   3   49.000000          200              98           astronomy\n",
       "1   2   31.333333          300              94  physical education\n",
       "2   1   70.588235           85              60             science\n",
       "3   0   88.888889           90              80               Maths"
      ]
     },
     "execution_count": 24,
     "metadata": {},
     "output_type": "execute_result"
    }
   ],
   "source": [
    "reversed_"
   ]
  },
  {
   "cell_type": "code",
   "execution_count": null,
   "id": "f42f9c09",
   "metadata": {},
   "outputs": [],
   "source": []
  }
 ],
 "metadata": {
  "kernelspec": {
   "display_name": "Python 3 (ipykernel)",
   "language": "python",
   "name": "python3"
  },
  "language_info": {
   "codemirror_mode": {
    "name": "ipython",
    "version": 3
   },
   "file_extension": ".py",
   "mimetype": "text/x-python",
   "name": "python",
   "nbconvert_exporter": "python",
   "pygments_lexer": "ipython3",
   "version": "3.10.2"
  }
 },
 "nbformat": 4,
 "nbformat_minor": 5
}
