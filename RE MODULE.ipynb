{
 "cells": [
  {
   "cell_type": "raw",
   "id": "4b3bfe1b",
   "metadata": {},
   "source": [
    "Uppercase\n",
    "lowercase\n",
    "titlecase\n",
    "endswith\n",
    "strip, lstrip, rstrip\n",
    "find\n",
    "\n",
    "b a t \n",
    "t a b"
   ]
  },
  {
   "cell_type": "code",
   "execution_count": 3,
   "id": "91c80d1c",
   "metadata": {},
   "outputs": [],
   "source": [
    "import re # builtin module"
   ]
  },
  {
   "cell_type": "code",
   "execution_count": 10,
   "id": "4ff8b8ef",
   "metadata": {},
   "outputs": [],
   "source": [
    "String = \"Today is the day\""
   ]
  },
  {
   "cell_type": "code",
   "execution_count": 11,
   "id": "6224a48d",
   "metadata": {},
   "outputs": [
    {
     "name": "stdout",
     "output_type": "stream",
     "text": [
      "today is  the day\n"
     ]
    }
   ],
   "source": [
    "a=input()"
   ]
  },
  {
   "cell_type": "code",
   "execution_count": 12,
   "id": "b1f4fc19",
   "metadata": {},
   "outputs": [
    {
     "data": {
      "text/plain": [
       "False"
      ]
     },
     "execution_count": 12,
     "metadata": {},
     "output_type": "execute_result"
    }
   ],
   "source": [
    "String.upper() == a.upper()"
   ]
  },
  {
   "cell_type": "code",
   "execution_count": 14,
   "id": "c842265e",
   "metadata": {},
   "outputs": [
    {
     "data": {
      "text/plain": [
       "-1"
      ]
     },
     "execution_count": 14,
     "metadata": {},
     "output_type": "execute_result"
    }
   ],
   "source": [
    "a.upper().find(String.upper())"
   ]
  },
  {
   "cell_type": "code",
   "execution_count": 16,
   "id": "efce9139",
   "metadata": {},
   "outputs": [
    {
     "data": {
      "text/plain": [
       "'Today is the day'"
      ]
     },
     "execution_count": 16,
     "metadata": {},
     "output_type": "execute_result"
    }
   ],
   "source": [
    "String"
   ]
  },
  {
   "cell_type": "code",
   "execution_count": 19,
   "id": "34cc30b5",
   "metadata": {},
   "outputs": [
    {
     "name": "stdout",
     "output_type": "stream",
     "text": [
      "None\n"
     ]
    }
   ],
   "source": [
    "print(re.search(String,a))"
   ]
  },
  {
   "cell_type": "code",
   "execution_count": 25,
   "id": "b66c4da2",
   "metadata": {},
   "outputs": [
    {
     "data": {
      "text/plain": [
       "['T', 'O', 'D', 'A', 'Y', 'I', 'S', 'T', 'H', 'E', 'D', 'A', 'Y']"
      ]
     },
     "execution_count": 25,
     "metadata": {},
     "output_type": "execute_result"
    }
   ],
   "source": [
    "re.findall('[A-Z]',String.upper())"
   ]
  },
  {
   "cell_type": "code",
   "execution_count": 65,
   "id": "cd2aa248",
   "metadata": {},
   "outputs": [],
   "source": [
    "li =['India','Thomascup_2022']\n"
   ]
  },
  {
   "cell_type": "markdown",
   "id": "95565687",
   "metadata": {},
   "source": [
    "#### re.match(pattern,input string)"
   ]
  },
  {
   "cell_type": "code",
   "execution_count": 66,
   "id": "e51d0ec0",
   "metadata": {},
   "outputs": [
    {
     "data": {
      "text/plain": [
       "'THOMASCUP'"
      ]
     },
     "execution_count": 66,
     "metadata": {},
     "output_type": "execute_result"
    }
   ],
   "source": [
    "for i in li:\n",
    "    x=(re.match('THOMASCUP',i.upper()))\n",
    "    \n",
    "x.group()"
   ]
  },
  {
   "cell_type": "markdown",
   "id": "ee6c066d",
   "metadata": {},
   "source": [
    "#### re.findall(pattern, input string)"
   ]
  },
  {
   "cell_type": "code",
   "execution_count": 67,
   "id": "cdc485d4",
   "metadata": {},
   "outputs": [
    {
     "data": {
      "text/plain": [
       "['THOMASCUP']"
      ]
     },
     "execution_count": 67,
     "metadata": {},
     "output_type": "execute_result"
    }
   ],
   "source": [
    "for i in li:\n",
    "    x=(re.findall('THOMASCUP',i.upper()))\n",
    "x"
   ]
  },
  {
   "cell_type": "markdown",
   "id": "e3ff26be",
   "metadata": {},
   "source": [
    "#### re.search(pattern,input string)"
   ]
  },
  {
   "cell_type": "code",
   "execution_count": 73,
   "id": "a4baa4a4",
   "metadata": {},
   "outputs": [
    {
     "data": {
      "text/plain": [
       "'THOMASCUP'"
      ]
     },
     "execution_count": 73,
     "metadata": {},
     "output_type": "execute_result"
    }
   ],
   "source": [
    "for i in li:\n",
    "    x=(re.search('THOMASCUP',i.upper()))\n",
    "x.group()"
   ]
  },
  {
   "cell_type": "markdown",
   "id": "b7e40ab4",
   "metadata": {},
   "source": [
    "|Set\t|Description\n",
    "| -----|------- | \n",
    "|[arn]|\tReturns a match where one of the specified characters (a, r, or n) is present\t/\n",
    "|[a-n]|\tReturns a match for any lower case character, alphabetically between a and n\t\n",
    "|[^arn]|\tReturns a match for any character EXCEPT a, r, and n\t\n",
    "|[0123]|\tReturns a match where any of the specified digits (0, 1, 2, or 3) are present\t\n",
    "|[0-9]|\tReturns a match for any digit between 0 and 9\t\n",
    "|[0-5][0-9]|\tReturns a match for any two-digit numbers from 00 and 59\t\n",
    "|[a-zA-Z]|\tReturns a match for any character alphabetically between a and z, lower case OR upper case\t\n",
    "|[+]  In sets, +, *, ., |, (), $,{} has no special meaning, so [+] means: return a match for any + character in the string"
   ]
  },
  {
   "cell_type": "code",
   "execution_count": null,
   "id": "884fbc8d",
   "metadata": {},
   "outputs": [],
   "source": []
  },
  {
   "cell_type": "code",
   "execution_count": null,
   "id": "e3f59100",
   "metadata": {},
   "outputs": [],
   "source": []
  }
 ],
 "metadata": {
  "kernelspec": {
   "display_name": "Python 3 (ipykernel)",
   "language": "python",
   "name": "python3"
  },
  "language_info": {
   "codemirror_mode": {
    "name": "ipython",
    "version": 3
   },
   "file_extension": ".py",
   "mimetype": "text/x-python",
   "name": "python",
   "nbconvert_exporter": "python",
   "pygments_lexer": "ipython3",
   "version": "3.10.2"
  }
 },
 "nbformat": 4,
 "nbformat_minor": 5
}
